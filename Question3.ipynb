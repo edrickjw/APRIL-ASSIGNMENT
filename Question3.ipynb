{
 "cells": [
  {
   "cell_type": "markdown",
   "id": "419f207c",
   "metadata": {},
   "source": [
    "# Part A"
   ]
  },
  {
   "cell_type": "code",
   "execution_count": 1,
   "id": "5029fcd3",
   "metadata": {},
   "outputs": [
    {
     "name": "stdout",
     "output_type": "stream",
     "text": [
      "as a term, data analytics predominantly refers to an assortment of applications, from basic \n",
      "business intelligence (bi), reporting and online analytical processing (olap) to various forms of \n",
      "advanced analytics. in that sense, it's similar in nature to business analytics, another umbrella \n",
      "term for approaches to analyzing data -- with the difference that the latter is oriented to \n",
      "business uses, while data analytics has a broader focus. the expansive view of the term isn't \n",
      "universal, though: in some cases, people use data analytics specifically to mean advanced \n",
      "analytics, treating bi as a separate category. data analytics initiatives can help businesses \n",
      "increase revenues, improve operational efficiency, optimize marketing campaigns and customer \n",
      "service efforts, respond more quickly to emerging market trends and gain a competitive edge \n",
      "over rivals -- all with the ultimate goal of boosting business performance. depending on the \n",
      "particular application, the data that's analyzed can consist of either historical records or new \n",
      "information that has been processed for real-time analytics uses. in addition, it can come from a \n",
      "mix of internal systems and external data sources. at a high level, data analytics methodologies \n",
      "include exploratory data analysis (eda), which aims to find patterns and relationships in data, \n",
      "and confirmatory data analysis (cda), which applies statistical techniques to determine whether \n",
      "hypotheses about a data set are true or false. eda is often compared to detective work, while \n",
      "cda is akin to the work of a judge or jury during a court trial -- a distinction first drawn by \n",
      "statistician john w. tukey in his 1977 book exploratory data analysis. data analytics can also \n",
      "be separated into quantitative data analysis and qualitative data analysis. the former involves \n",
      "analysis of numerical data with quantifiable variables that can be compared or measured \n",
      "statistically. the qualitative approach is more interpretive -- it focuses on understanding the \n",
      "content of non-numerical data like text, images, audio and video, including common phrases, \n",
      "themes and points of view.\n"
     ]
    }
   ],
   "source": [
    "# Add the text to a variable\n",
    "text = \"\"\"As a term, data analytics predominantly refers to an assortment of applications, from basic \n",
    "business intelligence (BI), reporting and online analytical processing (OLAP) to various forms of \n",
    "advanced analytics. In that sense, it's similar in nature to business analytics, another umbrella \n",
    "term for approaches to analyzing data -- with the difference that the latter is oriented to \n",
    "business uses, while data analytics has a broader focus. The expansive view of the term isn't \n",
    "universal, though: In some cases, people use data analytics specifically to mean advanced \n",
    "analytics, treating BI as a separate category. Data analytics initiatives can help businesses \n",
    "increase revenues, improve operational efficiency, optimize marketing campaigns and customer \n",
    "service efforts, respond more quickly to emerging market trends and gain a competitive edge \n",
    "over rivals -- all with the ultimate goal of boosting business performance. Depending on the \n",
    "particular application, the data that's analyzed can consist of either historical records or new \n",
    "information that has been processed for real-time analytics uses. In addition, it can come from a \n",
    "mix of internal systems and external data sources. At a high level, data analytics methodologies \n",
    "include exploratory data analysis (EDA), which aims to find patterns and relationships in data, \n",
    "and confirmatory data analysis (CDA), which applies statistical techniques to determine whether \n",
    "hypotheses about a data set are true or false. EDA is often compared to detective work, while \n",
    "CDA is akin to the work of a judge or jury during a court trial -- a distinction first drawn by \n",
    "statistician John W. Tukey in his 1977 book Exploratory Data Analysis. Data analytics can also \n",
    "be separated into quantitative data analysis and qualitative data analysis. The former involves \n",
    "analysis of numerical data with quantifiable variables that can be compared or measured \n",
    "statistically. The qualitative approach is more interpretive -- it focuses on understanding the \n",
    "content of non-numerical data like text, images, audio and video, including common phrases, \n",
    "themes and points of view.\"\"\"\n",
    "\n",
    "# Lowercase all the letters\n",
    "text = text.lower()\n",
    "print(text)"
   ]
  },
  {
   "cell_type": "code",
   "execution_count": 2,
   "id": "ddff62e2",
   "metadata": {},
   "outputs": [
    {
     "name": "stdout",
     "output_type": "stream",
     "text": [
      "23\n"
     ]
    }
   ],
   "source": [
    "# Count the number of lines\n",
    "num_lines = len(text.splitlines())\n",
    "print(num_lines)"
   ]
  },
  {
   "cell_type": "code",
   "execution_count": 10,
   "id": "f523e80d",
   "metadata": {},
   "outputs": [],
   "source": [
    "# Tokenize the text\n",
    "import nltk\n",
    "from nltk.tokenize import word_tokenize\n",
    "tokens = word_tokenize(text)"
   ]
  },
  {
   "cell_type": "code",
   "execution_count": 7,
   "id": "c885165e",
   "metadata": {},
   "outputs": [],
   "source": [
    "# Count the frequency of each words\n",
    "from collections import Counter\n",
    "c = Counter(tokens)\n",
    "words = dict(c)"
   ]
  },
  {
   "cell_type": "code",
   "execution_count": 9,
   "id": "9f0ecebb",
   "metadata": {},
   "outputs": [
    {
     "name": "stdout",
     "output_type": "stream",
     "text": [
      "The probability of the word “data” occurring in each line is 0.78\n"
     ]
    }
   ],
   "source": [
    "# Calculating the probability of word “data” occurring in each line\n",
    "prob_of_data_occuring_in_each_line = words['data']/num_lines\n",
    "print(f\"The probability of the word “data” occurring in each line is {round(prob_of_data_occuring_in_each_line,2)}\")"
   ]
  },
  {
   "cell_type": "markdown",
   "id": "23e3c901",
   "metadata": {},
   "source": [
    "# Part B"
   ]
  },
  {
   "cell_type": "code",
   "execution_count": 27,
   "id": "b61b6a3c",
   "metadata": {},
   "outputs": [],
   "source": [
    "# Counting the number of words in each line\n",
    "line_list = text.splitlines()\n",
    "words_count = []\n",
    "for line in line_list:\n",
    "    words_count.append(len(line.split(' '))-1)"
   ]
  },
  {
   "cell_type": "code",
   "execution_count": 34,
   "id": "74f2e2a8",
   "metadata": {},
   "outputs": [
    {
     "data": {
      "text/html": [
       "<div>\n",
       "<style scoped>\n",
       "    .dataframe tbody tr th:only-of-type {\n",
       "        vertical-align: middle;\n",
       "    }\n",
       "\n",
       "    .dataframe tbody tr th {\n",
       "        vertical-align: top;\n",
       "    }\n",
       "\n",
       "    .dataframe thead th {\n",
       "        text-align: right;\n",
       "    }\n",
       "</style>\n",
       "<table border=\"1\" class=\"dataframe\">\n",
       "  <thead>\n",
       "    <tr style=\"text-align: right;\">\n",
       "      <th></th>\n",
       "      <th>words_count</th>\n",
       "    </tr>\n",
       "  </thead>\n",
       "  <tbody>\n",
       "    <tr>\n",
       "      <th>0</th>\n",
       "      <td>14</td>\n",
       "    </tr>\n",
       "    <tr>\n",
       "      <th>1</th>\n",
       "      <td>13</td>\n",
       "    </tr>\n",
       "    <tr>\n",
       "      <th>2</th>\n",
       "      <td>14</td>\n",
       "    </tr>\n",
       "    <tr>\n",
       "      <th>3</th>\n",
       "      <td>16</td>\n",
       "    </tr>\n",
       "    <tr>\n",
       "      <th>4</th>\n",
       "      <td>16</td>\n",
       "    </tr>\n",
       "    <tr>\n",
       "      <th>5</th>\n",
       "      <td>13</td>\n",
       "    </tr>\n",
       "    <tr>\n",
       "      <th>6</th>\n",
       "      <td>13</td>\n",
       "    </tr>\n",
       "    <tr>\n",
       "      <th>7</th>\n",
       "      <td>10</td>\n",
       "    </tr>\n",
       "    <tr>\n",
       "      <th>8</th>\n",
       "      <td>14</td>\n",
       "    </tr>\n",
       "    <tr>\n",
       "      <th>9</th>\n",
       "      <td>15</td>\n",
       "    </tr>\n",
       "    <tr>\n",
       "      <th>10</th>\n",
       "      <td>14</td>\n",
       "    </tr>\n",
       "    <tr>\n",
       "      <th>11</th>\n",
       "      <td>16</td>\n",
       "    </tr>\n",
       "    <tr>\n",
       "      <th>12</th>\n",
       "      <td>15</td>\n",
       "    </tr>\n",
       "    <tr>\n",
       "      <th>13</th>\n",
       "      <td>14</td>\n",
       "    </tr>\n",
       "    <tr>\n",
       "      <th>14</th>\n",
       "      <td>12</td>\n",
       "    </tr>\n",
       "    <tr>\n",
       "      <th>15</th>\n",
       "      <td>17</td>\n",
       "    </tr>\n",
       "    <tr>\n",
       "      <th>16</th>\n",
       "      <td>21</td>\n",
       "    </tr>\n",
       "    <tr>\n",
       "      <th>17</th>\n",
       "      <td>15</td>\n",
       "    </tr>\n",
       "    <tr>\n",
       "      <th>18</th>\n",
       "      <td>13</td>\n",
       "    </tr>\n",
       "    <tr>\n",
       "      <th>19</th>\n",
       "      <td>13</td>\n",
       "    </tr>\n",
       "    <tr>\n",
       "      <th>20</th>\n",
       "      <td>13</td>\n",
       "    </tr>\n",
       "    <tr>\n",
       "      <th>21</th>\n",
       "      <td>13</td>\n",
       "    </tr>\n",
       "    <tr>\n",
       "      <th>22</th>\n",
       "      <td>4</td>\n",
       "    </tr>\n",
       "  </tbody>\n",
       "</table>\n",
       "</div>"
      ],
      "text/plain": [
       "    words_count\n",
       "0            14\n",
       "1            13\n",
       "2            14\n",
       "3            16\n",
       "4            16\n",
       "5            13\n",
       "6            13\n",
       "7            10\n",
       "8            14\n",
       "9            15\n",
       "10           14\n",
       "11           16\n",
       "12           15\n",
       "13           14\n",
       "14           12\n",
       "15           17\n",
       "16           21\n",
       "17           15\n",
       "18           13\n",
       "19           13\n",
       "20           13\n",
       "21           13\n",
       "22            4"
      ]
     },
     "execution_count": 34,
     "metadata": {},
     "output_type": "execute_result"
    }
   ],
   "source": [
    "import pandas as pd\n",
    "df = pd.DataFrame(words_count)\n",
    "df = df.rename(columns={0: \"words_count\"})\n",
    "df"
   ]
  },
  {
   "cell_type": "code",
   "execution_count": 36,
   "id": "07a5870a",
   "metadata": {},
   "outputs": [
    {
     "data": {
      "text/plain": [
       "<AxesSubplot:ylabel='Count'>"
      ]
     },
     "execution_count": 36,
     "metadata": {},
     "output_type": "execute_result"
    },
    {
     "data": {
      "image/png": "[encoded data removed]",
      "text/plain": [
       "<Figure size 432x288 with 1 Axes>"
      ]
     },
     "metadata": {
      "needs_background": "light"
     },
     "output_type": "display_data"
    }
   ],
   "source": [
    "import seaborn as sns\n",
    "\n",
    "sns.histplot(df,kde=True)"
   ]
  },
  {
   "cell_type": "markdown",
   "id": "e0f7a328",
   "metadata": {},
   "source": [
    "The distribution of words count on each line is normally distributed."
   ]
  },
  {
   "cell_type": "markdown",
   "id": "f11c2606",
   "metadata": {},
   "source": [
    "# Part C"
   ]
  },
  {
   "cell_type": "code",
   "execution_count": 42,
   "id": "e310e2cb",
   "metadata": {},
   "outputs": [
    {
     "name": "stdout",
     "output_type": "stream",
     "text": [
      "The Number of the word “analytics” occurring in each line is 10\n"
     ]
    }
   ],
   "source": [
    "# Calculating the number of word \"analytics\" appearing in the text\n",
    "number_of_analytics = words['analytics']\n",
    "print(f\"The Number of the word “analytics” occurring in each line is {number_of_analytics_occuring_in_each_line}\")"
   ]
  },
  {
   "cell_type": "code",
   "execution_count": 43,
   "id": "d4451417",
   "metadata": {},
   "outputs": [],
   "source": [
    "# Calculating the number of word \"data analytics\" appearing in the text\n",
    "s = text.split('data analytics')\n",
    "number_of_data_analytics = len(s) - 1"
   ]
  },
  {
   "cell_type": "code",
   "execution_count": 44,
   "id": "e0894630",
   "metadata": {},
   "outputs": [
    {
     "name": "stdout",
     "output_type": "stream",
     "text": [
      "The probability of word “analytics” occurring after the word “data” is 0.6\n"
     ]
    }
   ],
   "source": [
    "# Calculating the probability of word \"analytics\" occuring after the word \"data\"\n",
    "prob_of_word_analytics_after_data = number_of_data_analytics / number_of_analytics\n",
    "print(f\"The probability of word “analytics” occurring after the word “data” is {prob_of_word_analytics_after_data}\")"
   ]
  }
 ],
 "metadata": {
  "kernelspec": {
   "display_name": "Python 3",
   "language": "python",
   "name": "python3"
  },
  "language_info": {
   "codemirror_mode": {
    "name": "ipython",
    "version": 3
   },
   "file_extension": ".py",
   "mimetype": "text/x-python",
   "name": "python",
   "nbconvert_exporter": "python",
   "pygments_lexer": "ipython3",
   "version": "3.8.8"
  }
 },
 "nbformat": 4,
 "nbformat_minor": 5
}
